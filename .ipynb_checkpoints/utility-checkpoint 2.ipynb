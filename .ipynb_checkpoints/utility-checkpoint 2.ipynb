{
 "cells": [
  {
   "cell_type": "code",
   "execution_count": null,
   "metadata": {},
   "outputs": [],
   "source": []
  },
  {
   "cell_type": "code",
   "execution_count": null,
   "metadata": {},
   "outputs": [],
   "source": []
  },
  {
   "cell_type": "markdown",
   "metadata": {},
   "source": [
    "## Derivations of beta β\n",
    "A linear regression takes the form of:  \n",
    "               \n",
    "$$ y = bx + ε $$ \n",
    "\n",
    "where x is the regressor; b is x's coefficient, and ε is noise. its estimate can be expressed by:  \n",
    "               \n",
    "$$ {y = \\hat{b} x} $$ \n",
    "               \n",
    "As the Ordinary Least Square method states, the best value of beta would minimize the difference between the estimate value $ \\hat{y} $ and the actual y. Thus we have:  \n",
    "               \n",
    "$$ arg\\underset{b}min (y - \\hat{y})^2 $$ \n",
    "\n",
    "Let:  \n",
    "        \n",
    "$$ F =  (y - \\hat{y})^2$$\n",
    "$$F = (y - \\hat{b} x)^2 $$\n",
    "Take the derivative of F with respect to $\\hat{b}$, and make it equal to 0 for optimization  \n",
    "  \n",
    "$${dF\\over{d\\hat{b}}} = 2(y - \\hat{b} x)(-x) = 0 $$  \n",
    "\n",
    "$$(y - \\hat{b} x)(-x) = 0 $$  \n",
    "\n",
    "$$ \\hat{b} x x' = xy $$  \n",
    "\n",
    "and expression of estimated beta would be:   \n",
    "$$ \\hat{b} = (xx')^{-1} xy $$\n",
    "\n",
    "Now, for the standard deviation of beta, first take calculate the variance of beta:  \n",
    "$$ Var(b) = Var((xx')^{-1} xy) $$\n",
    "$$ Var(b) = Var((xx')^{-1} x (b x + ε)) $$\n",
    "$$ Var(b) = Var((xx')^{-1} x b x + (xx')^{-1} x ε)) $$\n",
    "$$ Var(b) = Var((xx')^{-1} x ε)) $$\n",
    "\n",
    "\n"
   ]
  },
  {
   "cell_type": "code",
   "execution_count": 1,
   "metadata": {},
   "outputs": [],
   "source": [
    "import numpy as np\n",
    "import pandas as pd\n"
   ]
  },
  {
   "cell_type": "code",
   "execution_count": 88,
   "metadata": {},
   "outputs": [
    {
     "data": {
      "text/html": [
       "<div>\n",
       "<style scoped>\n",
       "    .dataframe tbody tr th:only-of-type {\n",
       "        vertical-align: middle;\n",
       "    }\n",
       "\n",
       "    .dataframe tbody tr th {\n",
       "        vertical-align: top;\n",
       "    }\n",
       "\n",
       "    .dataframe thead th {\n",
       "        text-align: right;\n",
       "    }\n",
       "</style>\n",
       "<table border=\"1\" class=\"dataframe\">\n",
       "  <thead>\n",
       "    <tr style=\"text-align: right;\">\n",
       "      <th></th>\n",
       "      <th>BABA</th>\n",
       "      <th>FB</th>\n",
       "    </tr>\n",
       "  </thead>\n",
       "  <tbody>\n",
       "    <tr>\n",
       "      <th>0</th>\n",
       "      <td>76.690002</td>\n",
       "      <td>102.220001</td>\n",
       "    </tr>\n",
       "    <tr>\n",
       "      <th>1</th>\n",
       "      <td>78.629997</td>\n",
       "      <td>102.730003</td>\n",
       "    </tr>\n",
       "    <tr>\n",
       "      <th>2</th>\n",
       "      <td>77.330002</td>\n",
       "      <td>102.970001</td>\n",
       "    </tr>\n",
       "    <tr>\n",
       "      <th>3</th>\n",
       "      <td>72.720001</td>\n",
       "      <td>97.919998</td>\n",
       "    </tr>\n",
       "    <tr>\n",
       "      <th>4</th>\n",
       "      <td>70.800003</td>\n",
       "      <td>97.330002</td>\n",
       "    </tr>\n",
       "  </tbody>\n",
       "</table>\n",
       "</div>"
      ],
      "text/plain": [
       "        BABA          FB\n",
       "0  76.690002  102.220001\n",
       "1  78.629997  102.730003\n",
       "2  77.330002  102.970001\n",
       "3  72.720001   97.919998\n",
       "4  70.800003   97.330002"
      ]
     },
     "execution_count": 88,
     "metadata": {},
     "output_type": "execute_result"
    }
   ],
   "source": [
    "#loading data\n",
    "df = pd.read_csv('data.csv',).drop('Date',axis=1)\n",
    "df.head()"
   ]
  },
  {
   "cell_type": "code",
   "execution_count": 244,
   "metadata": {},
   "outputs": [],
   "source": [
    "class regression():\n",
    "    \"\"\"\n",
    "    This is class contains all the \n",
    "    statistical means I need for this\n",
    "    pair trading project\n",
    "    \"\"\"\n",
    "    def __init__(self, x, y, * args):\n",
    "        \"\"\"\n",
    "        x and y are pandas dataframe\n",
    "        \"\"\"\n",
    "        self.x = x\n",
    "        self.y = y\n",
    "        self.x_copy = x\n",
    "        self.y_copy = y\n",
    "        self.coef_dict = {}\n",
    "        self.coef = np.array([])\n",
    "        self.error = np.array([]);\n",
    "    \n",
    "    def addconst(self):\n",
    "        self.x['constant'] = np.ones(len(self.x))\n",
    "\n",
    "    def fit(self):\n",
    "        self.coef = np.linalg.inv(self.x.T.dot(self.x)).dot(self.x.T.dot(self.y))\n",
    "        for i in range(len(self.x.columns)):\n",
    "            self.coef_dict[self.x.columns[i]] = self.coef[i][0]\n",
    "        self.error = pd.DataFrame(self.y.values - self.x.dot(self.coef).values,columns = ['error'])\n",
    "        self.residual_cov = self.error.T.dot(self.error)/ len(self.y)\n",
    "        self.coef_cov = np.kron(np.linalg.inv(self.x.T.dot(self.x))\n",
    "                                ,self.residual_cov )\n",
    "        self.coef_stderror = np.sqrt(self.y.shape[0]/(self.y.shape[0]-self.x.shape[1])*np.diag(self.coef_cov))\n",
    "        \n",
    "        \n",
    "        \n",
    "        \n",
    "\n",
    "    def report(self):\n",
    "        print('='*20+'Beta Result Report'+'='*20+'\\n')\n",
    "        for each in self.coef_dict:\n",
    "            print('[+]Beta {}: {}'.format(each, self.coef_dict[each]))\n",
    "        print('\\n')"
   ]
  },
  {
   "cell_type": "code",
   "execution_count": 245,
   "metadata": {},
   "outputs": [],
   "source": [
    "x = pd.DataFrame(df.BABA)\n",
    "y = pd.DataFrame(df.FB)"
   ]
  },
  {
   "cell_type": "code",
   "execution_count": 246,
   "metadata": {},
   "outputs": [
    {
     "name": "stdout",
     "output_type": "stream",
     "text": [
      "====================Beta Result Report====================\n",
      "\n",
      "[+]Beta BABA: 0.7158412343865752\n",
      "[+]Beta constant: 54.19625955023571\n",
      "\n",
      "\n"
     ]
    }
   ],
   "source": [
    "model = regression(x,y)\n",
    "model.addconst()\n",
    "model.fit()\n",
    "model.report()"
   ]
  },
  {
   "cell_type": "code",
   "execution_count": 247,
   "metadata": {},
   "outputs": [
    {
     "data": {
      "text/plain": [
       "array([0.00700203, 1.15828118])"
      ]
     },
     "execution_count": 247,
     "metadata": {},
     "output_type": "execute_result"
    }
   ],
   "source": [
    "model.coef_stderror"
   ]
  },
  {
   "cell_type": "code",
   "execution_count": 252,
   "metadata": {},
   "outputs": [
    {
     "data": {
      "text/plain": [
       "array([[102.23343692,  46.79024434]])"
      ]
     },
     "execution_count": 252,
     "metadata": {},
     "output_type": "execute_result"
    }
   ],
   "source": [
    "model.coef.T/model.coef_stderror"
   ]
  },
  {
   "cell_type": "code",
   "execution_count": null,
   "metadata": {},
   "outputs": [],
   "source": []
  },
  {
   "cell_type": "code",
   "execution_count": 179,
   "metadata": {},
   "outputs": [],
   "source": [
    "#testing"
   ]
  },
  {
   "cell_type": "code",
   "execution_count": 180,
   "metadata": {},
   "outputs": [],
   "source": [
    "import statsmodels.api as sm"
   ]
  },
  {
   "cell_type": "code",
   "execution_count": 181,
   "metadata": {},
   "outputs": [
    {
     "data": {
      "text/plain": [
       "BABA         0.715841\n",
       "constant    54.196260\n",
       "dtype: float64"
      ]
     },
     "execution_count": 181,
     "metadata": {},
     "output_type": "execute_result"
    }
   ],
   "source": [
    "t_model = sm.OLS(y,x) \n",
    "results = t_model.fit()\n",
    "results.params"
   ]
  },
  {
   "cell_type": "code",
   "execution_count": 143,
   "metadata": {},
   "outputs": [
    {
     "data": {
      "text/plain": [
       "BABA        102.233437\n",
       "constant     46.790244\n",
       "dtype: float64"
      ]
     },
     "execution_count": 143,
     "metadata": {},
     "output_type": "execute_result"
    }
   ],
   "source": [
    "results.tvalues"
   ]
  },
  {
   "cell_type": "code",
   "execution_count": 225,
   "metadata": {},
   "outputs": [
    {
     "data": {
      "text/plain": [
       "array([ 5,  6,  7, 50, 60, 70])"
      ]
     },
     "execution_count": 225,
     "metadata": {},
     "output_type": "execute_result"
    }
   ],
   "source": []
  },
  {
   "cell_type": "code",
   "execution_count": null,
   "metadata": {},
   "outputs": [],
   "source": []
  },
  {
   "cell_type": "code",
   "execution_count": null,
   "metadata": {},
   "outputs": [],
   "source": []
  },
  {
   "cell_type": "code",
   "execution_count": null,
   "metadata": {},
   "outputs": [],
   "source": []
  },
  {
   "cell_type": "code",
   "execution_count": null,
   "metadata": {},
   "outputs": [],
   "source": []
  },
  {
   "cell_type": "code",
   "execution_count": 7,
   "metadata": {},
   "outputs": [],
   "source": [
    "coint_price = pd.read_csv('data.csv',index_col = 'Date')\n"
   ]
  },
  {
   "cell_type": "code",
   "execution_count": 8,
   "metadata": {},
   "outputs": [
    {
     "data": {
      "text/html": [
       "<div>\n",
       "<style scoped>\n",
       "    .dataframe tbody tr th:only-of-type {\n",
       "        vertical-align: middle;\n",
       "    }\n",
       "\n",
       "    .dataframe tbody tr th {\n",
       "        vertical-align: top;\n",
       "    }\n",
       "\n",
       "    .dataframe thead th {\n",
       "        text-align: right;\n",
       "    }\n",
       "</style>\n",
       "<table border=\"1\" class=\"dataframe\">\n",
       "  <thead>\n",
       "    <tr style=\"text-align: right;\">\n",
       "      <th></th>\n",
       "      <th>BABA</th>\n",
       "      <th>FB</th>\n",
       "    </tr>\n",
       "    <tr>\n",
       "      <th>Date</th>\n",
       "      <th></th>\n",
       "      <th></th>\n",
       "    </tr>\n",
       "  </thead>\n",
       "  <tbody>\n",
       "    <tr>\n",
       "      <th>2016-01-04</th>\n",
       "      <td>76.690002</td>\n",
       "      <td>102.220001</td>\n",
       "    </tr>\n",
       "    <tr>\n",
       "      <th>2016-01-05</th>\n",
       "      <td>78.629997</td>\n",
       "      <td>102.730003</td>\n",
       "    </tr>\n",
       "    <tr>\n",
       "      <th>2016-01-06</th>\n",
       "      <td>77.330002</td>\n",
       "      <td>102.970001</td>\n",
       "    </tr>\n",
       "    <tr>\n",
       "      <th>2016-01-07</th>\n",
       "      <td>72.720001</td>\n",
       "      <td>97.919998</td>\n",
       "    </tr>\n",
       "    <tr>\n",
       "      <th>2016-01-08</th>\n",
       "      <td>70.800003</td>\n",
       "      <td>97.330002</td>\n",
       "    </tr>\n",
       "  </tbody>\n",
       "</table>\n",
       "</div>"
      ],
      "text/plain": [
       "                 BABA          FB\n",
       "Date                             \n",
       "2016-01-04  76.690002  102.220001\n",
       "2016-01-05  78.629997  102.730003\n",
       "2016-01-06  77.330002  102.970001\n",
       "2016-01-07  72.720001   97.919998\n",
       "2016-01-08  70.800003   97.330002"
      ]
     },
     "execution_count": 8,
     "metadata": {},
     "output_type": "execute_result"
    }
   ],
   "source": [
    "coint_price.head()"
   ]
  },
  {
   "cell_type": "code",
   "execution_count": 11,
   "metadata": {},
   "outputs": [],
   "source": [
    "coint_price = coint_price/coint_price.iloc[0]"
   ]
  },
  {
   "cell_type": "code",
   "execution_count": 12,
   "metadata": {},
   "outputs": [
    {
     "data": {
      "text/plain": [
       "<matplotlib.axes._subplots.AxesSubplot at 0x7f8800526430>"
      ]
     },
     "execution_count": 12,
     "metadata": {},
     "output_type": "execute_result"
    },
    {
     "data": {
      "image/png": "[encoded data removed]",
      "text/plain": [
       "<Figure size 720x576 with 1 Axes>"
      ]
     },
     "metadata": {
      "needs_background": "light"
     },
     "output_type": "display_data"
    }
   ],
   "source": [
    "coint_price.plot(figsize = (10,8))"
   ]
  },
  {
   "cell_type": "code",
   "execution_count": 13,
   "metadata": {},
   "outputs": [
    {
     "data": {
      "text/html": [
       "<div>\n",
       "<style scoped>\n",
       "    .dataframe tbody tr th:only-of-type {\n",
       "        vertical-align: middle;\n",
       "    }\n",
       "\n",
       "    .dataframe tbody tr th {\n",
       "        vertical-align: top;\n",
       "    }\n",
       "\n",
       "    .dataframe thead th {\n",
       "        text-align: right;\n",
       "    }\n",
       "</style>\n",
       "<table border=\"1\" class=\"dataframe\">\n",
       "  <thead>\n",
       "    <tr style=\"text-align: right;\">\n",
       "      <th></th>\n",
       "      <th>BABA</th>\n",
       "      <th>FB</th>\n",
       "    </tr>\n",
       "    <tr>\n",
       "      <th>Date</th>\n",
       "      <th></th>\n",
       "      <th></th>\n",
       "    </tr>\n",
       "  </thead>\n",
       "  <tbody>\n",
       "    <tr>\n",
       "      <th>2016-01-05</th>\n",
       "      <td>0.024982</td>\n",
       "      <td>0.004977</td>\n",
       "    </tr>\n",
       "    <tr>\n",
       "      <th>2016-01-06</th>\n",
       "      <td>-0.016671</td>\n",
       "      <td>0.002333</td>\n",
       "    </tr>\n",
       "    <tr>\n",
       "      <th>2016-01-07</th>\n",
       "      <td>-0.061466</td>\n",
       "      <td>-0.050287</td>\n",
       "    </tr>\n",
       "    <tr>\n",
       "      <th>2016-01-08</th>\n",
       "      <td>-0.026757</td>\n",
       "      <td>-0.006044</td>\n",
       "    </tr>\n",
       "    <tr>\n",
       "      <th>2016-01-11</th>\n",
       "      <td>-0.012507</td>\n",
       "      <td>0.001848</td>\n",
       "    </tr>\n",
       "    <tr>\n",
       "      <th>...</th>\n",
       "      <td>...</td>\n",
       "      <td>...</td>\n",
       "    </tr>\n",
       "    <tr>\n",
       "      <th>2020-09-24</th>\n",
       "      <td>-0.011867</td>\n",
       "      <td>0.002046</td>\n",
       "    </tr>\n",
       "    <tr>\n",
       "      <th>2020-09-25</th>\n",
       "      <td>0.005029</td>\n",
       "      <td>0.020978</td>\n",
       "    </tr>\n",
       "    <tr>\n",
       "      <th>2020-09-28</th>\n",
       "      <td>0.017986</td>\n",
       "      <td>0.007818</td>\n",
       "    </tr>\n",
       "    <tr>\n",
       "      <th>2020-09-29</th>\n",
       "      <td>0.003328</td>\n",
       "      <td>0.019167</td>\n",
       "    </tr>\n",
       "    <tr>\n",
       "      <th>2020-09-30</th>\n",
       "      <td>0.059747</td>\n",
       "      <td>0.000420</td>\n",
       "    </tr>\n",
       "  </tbody>\n",
       "</table>\n",
       "<p>1194 rows × 2 columns</p>\n",
       "</div>"
      ],
      "text/plain": [
       "                BABA        FB\n",
       "Date                          \n",
       "2016-01-05  0.024982  0.004977\n",
       "2016-01-06 -0.016671  0.002333\n",
       "2016-01-07 -0.061466 -0.050287\n",
       "2016-01-08 -0.026757 -0.006044\n",
       "2016-01-11 -0.012507  0.001848\n",
       "...              ...       ...\n",
       "2020-09-24 -0.011867  0.002046\n",
       "2020-09-25  0.005029  0.020978\n",
       "2020-09-28  0.017986  0.007818\n",
       "2020-09-29  0.003328  0.019167\n",
       "2020-09-30  0.059747  0.000420\n",
       "\n",
       "[1194 rows x 2 columns]"
      ]
     },
     "execution_count": 13,
     "metadata": {},
     "output_type": "execute_result"
    }
   ],
   "source": [
    "returns = np.log(coint_price).diff().dropna()\n",
    "returns"
   ]
  },
  {
   "cell_type": "code",
   "execution_count": null,
   "metadata": {},
   "outputs": [],
   "source": []
  }
 ],
 "metadata": {
  "kernelspec": {
   "display_name": "Python 3",
   "language": "python",
   "name": "python3"
  },
  "language_info": {
   "codemirror_mode": {
    "name": "ipython",
    "version": 3
   },
   "file_extension": ".py",
   "mimetype": "text/x-python",
   "name": "python",
   "nbconvert_exporter": "python",
   "pygments_lexer": "ipython3",
   "version": "3.8.3"
  }
 },
 "nbformat": 4,
 "nbformat_minor": 4
}
