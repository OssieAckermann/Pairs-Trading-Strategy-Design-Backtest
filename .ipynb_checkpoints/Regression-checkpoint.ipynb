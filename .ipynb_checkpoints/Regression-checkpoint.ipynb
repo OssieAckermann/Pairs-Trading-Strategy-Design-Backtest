{
 "cells": [
  {
   "cell_type": "code",
   "execution_count": 155,
   "metadata": {},
   "outputs": [],
   "source": [
    "#pip install import-ipynb\n",
    "import import_ipynb\n",
    "import warnings\n",
    "warnings.filterwarnings('ignore')"
   ]
  },
  {
   "cell_type": "code",
   "execution_count": 6,
   "metadata": {},
   "outputs": [],
   "source": [
    "from utility import regression"
   ]
  },
  {
   "cell_type": "code",
   "execution_count": 191,
   "metadata": {},
   "outputs": [],
   "source": [
    "import numpy as np\n",
    "import pandas as pd\n",
    "\n",
    "import statsmodels\n",
    "from sklearn.linear_model import LinearRegression as LR\n",
    "\n",
    "from statsmodels.tsa.stattools import coint\n",
    "import matplotlib.pyplot as plt\n",
    "import seaborn as sns\n",
    "\n",
    "import yfinance as yf\n",
    "from scipy.stats import norm\n",
    "\n"
   ]
  },
  {
   "cell_type": "code",
   "execution_count": 20,
   "metadata": {},
   "outputs": [
    {
     "data": {
      "text/html": [
       "<div>\n",
       "<style scoped>\n",
       "    .dataframe tbody tr th:only-of-type {\n",
       "        vertical-align: middle;\n",
       "    }\n",
       "\n",
       "    .dataframe tbody tr th {\n",
       "        vertical-align: top;\n",
       "    }\n",
       "\n",
       "    .dataframe thead th {\n",
       "        text-align: right;\n",
       "    }\n",
       "</style>\n",
       "<table border=\"1\" class=\"dataframe\">\n",
       "  <thead>\n",
       "    <tr style=\"text-align: right;\">\n",
       "      <th></th>\n",
       "      <th>BABA</th>\n",
       "      <th>FB</th>\n",
       "    </tr>\n",
       "  </thead>\n",
       "  <tbody>\n",
       "    <tr>\n",
       "      <th>0</th>\n",
       "      <td>76.690002</td>\n",
       "      <td>102.220001</td>\n",
       "    </tr>\n",
       "    <tr>\n",
       "      <th>1</th>\n",
       "      <td>78.629997</td>\n",
       "      <td>102.730003</td>\n",
       "    </tr>\n",
       "    <tr>\n",
       "      <th>2</th>\n",
       "      <td>77.330002</td>\n",
       "      <td>102.970001</td>\n",
       "    </tr>\n",
       "    <tr>\n",
       "      <th>3</th>\n",
       "      <td>72.720001</td>\n",
       "      <td>97.919998</td>\n",
       "    </tr>\n",
       "    <tr>\n",
       "      <th>4</th>\n",
       "      <td>70.800003</td>\n",
       "      <td>97.330002</td>\n",
       "    </tr>\n",
       "  </tbody>\n",
       "</table>\n",
       "</div>"
      ],
      "text/plain": [
       "        BABA          FB\n",
       "0  76.690002  102.220001\n",
       "1  78.629997  102.730003\n",
       "2  77.330002  102.970001\n",
       "3  72.720001   97.919998\n",
       "4  70.800003   97.330002"
      ]
     },
     "execution_count": 20,
     "metadata": {},
     "output_type": "execute_result"
    }
   ],
   "source": [
    "df = pd.read_csv('data.csv',).drop('Date',axis=1)\n",
    "df.head()"
   ]
  },
  {
   "cell_type": "code",
   "execution_count": 21,
   "metadata": {},
   "outputs": [],
   "source": [
    "x = pd.DataFrame(df)\n",
    "y = pd.DataFrame(df)"
   ]
  },
  {
   "cell_type": "code",
   "execution_count": 242,
   "metadata": {},
   "outputs": [],
   "source": [
    "class VAR():\n",
    "    \"\"\"\n",
    "    This is class contains all the \n",
    "    statistical means I need for this\n",
    "    pair trading project\n",
    "    \"\"\"\n",
    "    def __init__(self, df, lag, * args):\n",
    "        \"\"\"\n",
    "        x and y are pandas dataframe\n",
    "        \"\"\"\n",
    "        self.df = df\n",
    "        self.lag =lag\n",
    "        self.coef = np.array([])\n",
    "        self.columns_name = self.name_lag()\n",
    "        self.data = self.process_data()\n",
    "        self.x = self.data[self.indepvar_name]\n",
    "        self.y = self.data[df.columns]\n",
    "        \n",
    "        self.addconst()\n",
    "        self.fit()\n",
    "        \n",
    "        \n",
    "        \n",
    "    def name_lag(self,):\n",
    "        rlst = list(self.df.columns)\n",
    "        self.indepvar_name = []\n",
    "        for j in range(self.lag):\n",
    "            for i in range(len(self.df.columns)):\n",
    "                rlst.append('(Lag_'+str(j+1)+', '+self.df.columns[i]+')')\n",
    "                self.indepvar_name.append('(Lag_'+str(j+1)+', '+self.df.columns[i]+')')\n",
    "        return rlst\n",
    "        \n",
    "    def process_data(self,):\n",
    "        lst = [self.df]\n",
    "        for i in range(self.lag):\n",
    "            lst.append(df.shift(i+1))\n",
    "        r_df = pd.concat(lst,axis = 1)\n",
    "        r_df.columns = self.columns_name\n",
    "        return r_df.fillna(0).reset_index(drop=True)\n",
    "    \n",
    "    def addconst(self):\n",
    "        self.x['constant'] = np.ones(len(self.x))\n",
    "        self.indepvar_name.append('constant')\n",
    "\n",
    "    def fit(self):\n",
    "        # Coefficient\n",
    "        self.coef = np.linalg.inv(self.x.T.dot(self.x)).dot(self.x.T.dot(self.y))\n",
    "        self.coef = pd.DataFrame(self.coef, \n",
    "                                 index = self.x.columns,\n",
    "                                columns = self.y.columns)\n",
    "        self.error = self.y - self.x.dot(self.coef)\n",
    "        self.residual_cov = self.error.T.dot(self.error)/ len(self.y)\n",
    "        self.coef_cov = np.kron(np.linalg.inv(self.x.T.dot(self.x))\n",
    "                                ,self.residual_cov )\n",
    "        self.coef_std = np.sqrt(self.y.shape[0]/(self.y.shape[0]-self.x.shape[1])*np.diag(self.coef_cov))\n",
    "        self.tstats = self.coef/self.coef_std.reshape(self.coef.shape)\n",
    "        \n",
    "        self.coef_std = pd.DataFrame(self.coef_std.reshape(self.coef.shape),\n",
    "                                    index =self.x.columns,\n",
    "                                   columns = self.y.columns)\n",
    "        \n",
    "        self.p_value = pd.DataFrame(2*(1-norm.cdf(abs(self.tstats))), \n",
    "                     index = self.indepvar_name, \n",
    "                     columns = self.df.columns)\n",
    "        \n",
    "    \n",
    "    def report(self):\n",
    "        return pd.concat({'Estimate Coefficient':self.coef,\n",
    "                          'SD of Estimate':self.coef_std,\n",
    "                          't-Statistic':self.tstats,}, axis = 1)\n",
    "        \n",
    "    def AIC(self):\n",
    "        return np.log(np.linalg.det(self.residual_cov)) + 2*self.x.shape[1]*self.y.shape[1]/self.y.shape[0]\n",
    "    \n",
    "    def BIC(self):\n",
    "        return np.log(np.linalg.det(self.residual_cov)) + np.log(self.y.shape[0])*self.x.shape[1]*self.y.shape[1]/self.y.shape[0]\n",
    "        \n",
    "    def IC(self, lag):\n",
    "        ic = pd.DataFrame([[VAR(df, p+1).AIC(), VAR(df, p+1).BIC()] for p in range(lag)], \n",
    "             index=[p+1 for p in range(lag)],\n",
    "             columns = ['AIC','BIC'],)\n",
    "        ic.index.name = 'Lag'\n",
    "        return ic\n",
    "\n",
    "        \n",
    "        \n",
    "        \n",
    "        \n",
    "    "
   ]
  },
  {
   "cell_type": "code",
   "execution_count": 243,
   "metadata": {},
   "outputs": [
    {
     "data": {
      "text/html": [
       "<div>\n",
       "<style scoped>\n",
       "    .dataframe tbody tr th:only-of-type {\n",
       "        vertical-align: middle;\n",
       "    }\n",
       "\n",
       "    .dataframe tbody tr th {\n",
       "        vertical-align: top;\n",
       "    }\n",
       "\n",
       "    .dataframe thead tr th {\n",
       "        text-align: left;\n",
       "    }\n",
       "</style>\n",
       "<table border=\"1\" class=\"dataframe\">\n",
       "  <thead>\n",
       "    <tr>\n",
       "      <th></th>\n",
       "      <th colspan=\"2\" halign=\"left\">Estimate Coefficient</th>\n",
       "      <th colspan=\"2\" halign=\"left\">SD of Estimate</th>\n",
       "      <th colspan=\"2\" halign=\"left\">t-Statistic</th>\n",
       "    </tr>\n",
       "    <tr>\n",
       "      <th></th>\n",
       "      <th>BABA</th>\n",
       "      <th>FB</th>\n",
       "      <th>BABA</th>\n",
       "      <th>FB</th>\n",
       "      <th>BABA</th>\n",
       "      <th>FB</th>\n",
       "    </tr>\n",
       "  </thead>\n",
       "  <tbody>\n",
       "    <tr>\n",
       "      <th>(Lag_1, BABA)</th>\n",
       "      <td>1.001204</td>\n",
       "      <td>0.033235</td>\n",
       "      <td>0.007256</td>\n",
       "      <td>0.008212</td>\n",
       "      <td>137.980277</td>\n",
       "      <td>4.047076</td>\n",
       "    </tr>\n",
       "    <tr>\n",
       "      <th>(Lag_1, FB)</th>\n",
       "      <td>-0.007545</td>\n",
       "      <td>0.945897</td>\n",
       "      <td>0.009562</td>\n",
       "      <td>0.010822</td>\n",
       "      <td>-0.789104</td>\n",
       "      <td>87.406558</td>\n",
       "    </tr>\n",
       "    <tr>\n",
       "      <th>constant</th>\n",
       "      <td>1.314239</td>\n",
       "      <td>4.012441</td>\n",
       "      <td>0.641629</td>\n",
       "      <td>0.726166</td>\n",
       "      <td>2.048285</td>\n",
       "      <td>5.525516</td>\n",
       "    </tr>\n",
       "  </tbody>\n",
       "</table>\n",
       "</div>"
      ],
      "text/plain": [
       "              Estimate Coefficient           SD of Estimate            \\\n",
       "                              BABA        FB           BABA        FB   \n",
       "(Lag_1, BABA)             1.001204  0.033235       0.007256  0.008212   \n",
       "(Lag_1, FB)              -0.007545  0.945897       0.009562  0.010822   \n",
       "constant                  1.314239  4.012441       0.641629  0.726166   \n",
       "\n",
       "              t-Statistic             \n",
       "                     BABA         FB  \n",
       "(Lag_1, BABA)  137.980277   4.047076  \n",
       "(Lag_1, FB)     -0.789104  87.406558  \n",
       "constant         2.048285   5.525516  "
      ]
     },
     "execution_count": 243,
     "metadata": {},
     "output_type": "execute_result"
    }
   ],
   "source": [
    "model = VAR(df = df,lag = 1)\n",
    "model.report()\n"
   ]
  },
  {
   "cell_type": "code",
   "execution_count": 244,
   "metadata": {},
   "outputs": [
    {
     "data": {
      "text/html": [
       "<div>\n",
       "<style scoped>\n",
       "    .dataframe tbody tr th:only-of-type {\n",
       "        vertical-align: middle;\n",
       "    }\n",
       "\n",
       "    .dataframe tbody tr th {\n",
       "        vertical-align: top;\n",
       "    }\n",
       "\n",
       "    .dataframe thead th {\n",
       "        text-align: right;\n",
       "    }\n",
       "</style>\n",
       "<table border=\"1\" class=\"dataframe\">\n",
       "  <thead>\n",
       "    <tr style=\"text-align: right;\">\n",
       "      <th></th>\n",
       "      <th>BABA</th>\n",
       "      <th>FB</th>\n",
       "    </tr>\n",
       "  </thead>\n",
       "  <tbody>\n",
       "    <tr>\n",
       "      <th>(Lag_1, BABA)</th>\n",
       "      <td>True</td>\n",
       "      <td>True</td>\n",
       "    </tr>\n",
       "    <tr>\n",
       "      <th>(Lag_1, FB)</th>\n",
       "      <td>False</td>\n",
       "      <td>True</td>\n",
       "    </tr>\n",
       "    <tr>\n",
       "      <th>constant</th>\n",
       "      <td>True</td>\n",
       "      <td>True</td>\n",
       "    </tr>\n",
       "  </tbody>\n",
       "</table>\n",
       "</div>"
      ],
      "text/plain": [
       "                BABA    FB\n",
       "(Lag_1, BABA)   True  True\n",
       "(Lag_1, FB)    False  True\n",
       "constant        True  True"
      ]
     },
     "execution_count": 244,
     "metadata": {},
     "output_type": "execute_result"
    }
   ],
   "source": [
    "model.p_value <0.05"
   ]
  },
  {
   "cell_type": "code",
   "execution_count": 246,
   "metadata": {},
   "outputs": [
    {
     "data": {
      "text/html": [
       "<div>\n",
       "<style scoped>\n",
       "    .dataframe tbody tr th:only-of-type {\n",
       "        vertical-align: middle;\n",
       "    }\n",
       "\n",
       "    .dataframe tbody tr th {\n",
       "        vertical-align: top;\n",
       "    }\n",
       "\n",
       "    .dataframe thead th {\n",
       "        text-align: right;\n",
       "    }\n",
       "</style>\n",
       "<table border=\"1\" class=\"dataframe\">\n",
       "  <thead>\n",
       "    <tr style=\"text-align: right;\">\n",
       "      <th></th>\n",
       "      <th>AIC</th>\n",
       "      <th>BIC</th>\n",
       "    </tr>\n",
       "    <tr>\n",
       "      <th>Lag</th>\n",
       "      <th></th>\n",
       "      <th></th>\n",
       "    </tr>\n",
       "  </thead>\n",
       "  <tbody>\n",
       "    <tr>\n",
       "      <th>1</th>\n",
       "      <td>5.328707</td>\n",
       "      <td>5.354243</td>\n",
       "    </tr>\n",
       "    <tr>\n",
       "      <th>2</th>\n",
       "      <td>5.330497</td>\n",
       "      <td>5.373057</td>\n",
       "    </tr>\n",
       "    <tr>\n",
       "      <th>3</th>\n",
       "      <td>5.335523</td>\n",
       "      <td>5.395107</td>\n",
       "    </tr>\n",
       "    <tr>\n",
       "      <th>4</th>\n",
       "      <td>5.335252</td>\n",
       "      <td>5.411860</td>\n",
       "    </tr>\n",
       "    <tr>\n",
       "      <th>5</th>\n",
       "      <td>5.340507</td>\n",
       "      <td>5.434138</td>\n",
       "    </tr>\n",
       "  </tbody>\n",
       "</table>\n",
       "</div>"
      ],
      "text/plain": [
       "          AIC       BIC\n",
       "Lag                    \n",
       "1    5.328707  5.354243\n",
       "2    5.330497  5.373057\n",
       "3    5.335523  5.395107\n",
       "4    5.335252  5.411860\n",
       "5    5.340507  5.434138"
      ]
     },
     "execution_count": 246,
     "metadata": {},
     "output_type": "execute_result"
    }
   ],
   "source": [
    "model.IC(5)"
   ]
  },
  {
   "cell_type": "code",
   "execution_count": null,
   "metadata": {},
   "outputs": [],
   "source": []
  },
  {
   "cell_type": "code",
   "execution_count": 299,
   "metadata": {},
   "outputs": [],
   "source": [
    "#testing"
   ]
  },
  {
   "cell_type": "code",
   "execution_count": 1,
   "metadata": {},
   "outputs": [],
   "source": [
    "from sklearn import linear_model\n",
    "import statsmodels.api as sm\n"
   ]
  },
  {
   "cell_type": "code",
   "execution_count": 14,
   "metadata": {},
   "outputs": [],
   "source": [
    "x = pd.DataFrame(df.shift().fillna(0))\n",
    "y = pd.DataFrame(df.FB)\n",
    "x = sm.add_constant(x)\n"
   ]
  },
  {
   "cell_type": "code",
   "execution_count": 15,
   "metadata": {},
   "outputs": [
    {
     "data": {
      "text/html": [
       "<div>\n",
       "<style scoped>\n",
       "    .dataframe tbody tr th:only-of-type {\n",
       "        vertical-align: middle;\n",
       "    }\n",
       "\n",
       "    .dataframe tbody tr th {\n",
       "        vertical-align: top;\n",
       "    }\n",
       "\n",
       "    .dataframe thead th {\n",
       "        text-align: right;\n",
       "    }\n",
       "</style>\n",
       "<table border=\"1\" class=\"dataframe\">\n",
       "  <thead>\n",
       "    <tr style=\"text-align: right;\">\n",
       "      <th></th>\n",
       "      <th>const</th>\n",
       "      <th>BABA</th>\n",
       "      <th>FB</th>\n",
       "    </tr>\n",
       "  </thead>\n",
       "  <tbody>\n",
       "    <tr>\n",
       "      <th>0</th>\n",
       "      <td>1.0</td>\n",
       "      <td>0.000000</td>\n",
       "      <td>0.000000</td>\n",
       "    </tr>\n",
       "    <tr>\n",
       "      <th>1</th>\n",
       "      <td>1.0</td>\n",
       "      <td>76.690002</td>\n",
       "      <td>102.220001</td>\n",
       "    </tr>\n",
       "    <tr>\n",
       "      <th>2</th>\n",
       "      <td>1.0</td>\n",
       "      <td>78.629997</td>\n",
       "      <td>102.730003</td>\n",
       "    </tr>\n",
       "    <tr>\n",
       "      <th>3</th>\n",
       "      <td>1.0</td>\n",
       "      <td>77.330002</td>\n",
       "      <td>102.970001</td>\n",
       "    </tr>\n",
       "    <tr>\n",
       "      <th>4</th>\n",
       "      <td>1.0</td>\n",
       "      <td>72.720001</td>\n",
       "      <td>97.919998</td>\n",
       "    </tr>\n",
       "    <tr>\n",
       "      <th>...</th>\n",
       "      <td>...</td>\n",
       "      <td>...</td>\n",
       "      <td>...</td>\n",
       "    </tr>\n",
       "    <tr>\n",
       "      <th>1190</th>\n",
       "      <td>1.0</td>\n",
       "      <td>272.950012</td>\n",
       "      <td>249.020004</td>\n",
       "    </tr>\n",
       "    <tr>\n",
       "      <th>1191</th>\n",
       "      <td>1.0</td>\n",
       "      <td>269.730011</td>\n",
       "      <td>249.529999</td>\n",
       "    </tr>\n",
       "    <tr>\n",
       "      <th>1192</th>\n",
       "      <td>1.0</td>\n",
       "      <td>271.089996</td>\n",
       "      <td>254.820007</td>\n",
       "    </tr>\n",
       "    <tr>\n",
       "      <th>1193</th>\n",
       "      <td>1.0</td>\n",
       "      <td>276.010010</td>\n",
       "      <td>256.820007</td>\n",
       "    </tr>\n",
       "    <tr>\n",
       "      <th>1194</th>\n",
       "      <td>1.0</td>\n",
       "      <td>276.929993</td>\n",
       "      <td>261.790009</td>\n",
       "    </tr>\n",
       "  </tbody>\n",
       "</table>\n",
       "<p>1195 rows × 3 columns</p>\n",
       "</div>"
      ],
      "text/plain": [
       "      const        BABA          FB\n",
       "0       1.0    0.000000    0.000000\n",
       "1       1.0   76.690002  102.220001\n",
       "2       1.0   78.629997  102.730003\n",
       "3       1.0   77.330002  102.970001\n",
       "4       1.0   72.720001   97.919998\n",
       "...     ...         ...         ...\n",
       "1190    1.0  272.950012  249.020004\n",
       "1191    1.0  269.730011  249.529999\n",
       "1192    1.0  271.089996  254.820007\n",
       "1193    1.0  276.010010  256.820007\n",
       "1194    1.0  276.929993  261.790009\n",
       "\n",
       "[1195 rows x 3 columns]"
      ]
     },
     "execution_count": 15,
     "metadata": {},
     "output_type": "execute_result"
    }
   ],
   "source": [
    "x"
   ]
  },
  {
   "cell_type": "code",
   "execution_count": 16,
   "metadata": {},
   "outputs": [
    {
     "data": {
      "text/plain": [
       "const    4.012441\n",
       "BABA     0.033235\n",
       "FB       0.945897\n",
       "dtype: float64"
      ]
     },
     "execution_count": 16,
     "metadata": {},
     "output_type": "execute_result"
    }
   ],
   "source": [
    "model = sm.OLS(y,x)\n",
    "result = model.fit()\n",
    "result.params"
   ]
  },
  {
   "cell_type": "code",
   "execution_count": 17,
   "metadata": {},
   "outputs": [
    {
     "data": {
      "text/plain": [
       "const     5.525516\n",
       "BABA      4.047076\n",
       "FB       87.406558\n",
       "dtype: float64"
      ]
     },
     "execution_count": 17,
     "metadata": {},
     "output_type": "execute_result"
    }
   ],
   "source": [
    "result.tvalues"
   ]
  },
  {
   "cell_type": "code",
   "execution_count": null,
   "metadata": {},
   "outputs": [],
   "source": []
  },
  {
   "cell_type": "code",
   "execution_count": null,
   "metadata": {},
   "outputs": [],
   "source": []
  },
  {
   "cell_type": "code",
   "execution_count": null,
   "metadata": {},
   "outputs": [],
   "source": []
  }
 ],
 "metadata": {
  "kernelspec": {
   "display_name": "Python 3",
   "language": "python",
   "name": "python3"
  },
  "language_info": {
   "codemirror_mode": {
    "name": "ipython",
    "version": 3
   },
   "file_extension": ".py",
   "mimetype": "text/x-python",
   "name": "python",
   "nbconvert_exporter": "python",
   "pygments_lexer": "ipython3",
   "version": "3.8.3"
  }
 },
 "nbformat": 4,
 "nbformat_minor": 4
}
