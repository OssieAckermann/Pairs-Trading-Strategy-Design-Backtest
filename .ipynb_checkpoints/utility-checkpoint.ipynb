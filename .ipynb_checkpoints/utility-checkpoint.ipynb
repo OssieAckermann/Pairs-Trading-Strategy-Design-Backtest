{
 "cells": [
  {
   "cell_type": "code",
   "execution_count": null,
   "metadata": {},
   "outputs": [],
   "source": []
  },
  {
   "cell_type": "code",
   "execution_count": null,
   "metadata": {},
   "outputs": [],
   "source": []
  },
  {
   "cell_type": "markdown",
   "metadata": {},
   "source": [
    "## Derivations of beta β\n",
    "A linear regression takes the form of:  \n",
    "               \n",
    "$$ y = bx + ε $$ \n",
    "\n",
    "where x is the regressor; b is x's coefficient, and ε is noise. its estimate can be expressed by:  \n",
    "               \n",
    "$$ {y = \\hat{b} x} $$ \n",
    "               \n",
    "As the Ordinary Least Square method states, the best value of beta would minimize the difference between the estimate value $ \\hat{y} $ and the actual y. Thus we have:  \n",
    "               \n",
    "$$ arg\\underset{b}min (y - \\hat{y})^2 $$ \n",
    "\n",
    "Let:  \n",
    "        \n",
    "$$ F =  (y - \\hat{y})^2$$\n",
    "$$F = (y - \\hat{b} x)^2 $$\n",
    "Take the derivative of F with respect to $\\hat{b}$, and make it equal to 0 for optimization  \n",
    "  \n",
    "$${dF\\over{d\\hat{b}}} = 2(y - \\hat{b} x)(-x) = 0 $$  \n",
    "\n",
    "$$(y - \\hat{b} x)(-x) = 0 $$  \n",
    "\n",
    "$$ \\hat{b} x x' = xy $$  \n",
    "\n",
    "and expression of estimated beta would be:   \n",
    "$$ \\hat{b} = (xx')^{-1} xy $$\n",
    "\n",
    "Now, for the standard deviation of beta, first take calculate the variance of beta:  \n",
    "$$ Var(b) = Var((xx')^{-1} xy) $$\n",
    "$$ Var(b) = Var((xx')^{-1} x (b x + ε)) $$\n",
    "$$ Var(b) = Var((xx')^{-1} x b x + (xx')^{-1} x ε)) $$\n",
    "$$ Var(b) = Var((xx')^{-1} x ε)) $$\n",
    "\n",
    "\n"
   ]
  },
  {
   "cell_type": "code",
   "execution_count": 1,
   "metadata": {},
   "outputs": [],
   "source": [
    "import numpy as np\n",
    "import pandas as pd\n"
   ]
  },
  {
   "cell_type": "code",
   "execution_count": 521,
   "metadata": {},
   "outputs": [
    {
     "data": {
      "text/html": [
       "<div>\n",
       "<style scoped>\n",
       "    .dataframe tbody tr th:only-of-type {\n",
       "        vertical-align: middle;\n",
       "    }\n",
       "\n",
       "    .dataframe tbody tr th {\n",
       "        vertical-align: top;\n",
       "    }\n",
       "\n",
       "    .dataframe thead th {\n",
       "        text-align: right;\n",
       "    }\n",
       "</style>\n",
       "<table border=\"1\" class=\"dataframe\">\n",
       "  <thead>\n",
       "    <tr style=\"text-align: right;\">\n",
       "      <th></th>\n",
       "      <th>BABA</th>\n",
       "      <th>FB</th>\n",
       "    </tr>\n",
       "  </thead>\n",
       "  <tbody>\n",
       "    <tr>\n",
       "      <th>0</th>\n",
       "      <td>76.690002</td>\n",
       "      <td>102.220001</td>\n",
       "    </tr>\n",
       "    <tr>\n",
       "      <th>1</th>\n",
       "      <td>78.629997</td>\n",
       "      <td>102.730003</td>\n",
       "    </tr>\n",
       "    <tr>\n",
       "      <th>2</th>\n",
       "      <td>77.330002</td>\n",
       "      <td>102.970001</td>\n",
       "    </tr>\n",
       "    <tr>\n",
       "      <th>3</th>\n",
       "      <td>72.720001</td>\n",
       "      <td>97.919998</td>\n",
       "    </tr>\n",
       "    <tr>\n",
       "      <th>4</th>\n",
       "      <td>70.800003</td>\n",
       "      <td>97.330002</td>\n",
       "    </tr>\n",
       "  </tbody>\n",
       "</table>\n",
       "</div>"
      ],
      "text/plain": [
       "        BABA          FB\n",
       "0  76.690002  102.220001\n",
       "1  78.629997  102.730003\n",
       "2  77.330002  102.970001\n",
       "3  72.720001   97.919998\n",
       "4  70.800003   97.330002"
      ]
     },
     "execution_count": 521,
     "metadata": {},
     "output_type": "execute_result"
    }
   ],
   "source": [
    "#loading data\n",
    "df = pd.read_csv('data.csv',).drop('Date',axis=1)\n",
    "df.head()"
   ]
  },
  {
   "cell_type": "code",
   "execution_count": 491,
   "metadata": {},
   "outputs": [],
   "source": [
    "class regression():\n",
    "    \"\"\"\n",
    "    This is class contains all the \n",
    "    statistical means I need for this\n",
    "    pair trading project\n",
    "    \"\"\"\n",
    "    def __init__(self, x, y, * args):\n",
    "        \"\"\"\n",
    "        x and y are pandas dataframe\n",
    "        \"\"\"\n",
    "        self.x = x\n",
    "        self.y = y\n",
    "        self.x_copy = x\n",
    "        self.y_copy = y\n",
    "        self.coef_dict = {}\n",
    "        self.coef = np.array([])\n",
    "        self.error = np.array([])\n",
    "        self.std_dict = {}\n",
    "        self.t_dict = {}\n",
    "\n",
    "    \n",
    "    def addconst(self):\n",
    "        self.x['constant'] = np.ones(len(self.x))\n",
    "\n",
    "    def fit(self):\n",
    "        # Coefficient\n",
    "        self.coef = np.linalg.inv(self.x.T.dot(self.x)).dot(self.x.T.dot(self.y))\n",
    "        for i in range(len(self.x.columns)):\n",
    "            self.coef_dict[self.x.columns[i]] = self.coef[i][0]\n",
    "        \n",
    "        # t statistics    \n",
    "        self.error = pd.DataFrame(self.y.values - self.x.dot(self.coef))\n",
    "        self.residual_cov = self.error.T.dot(self.error)/ len(self.y)\n",
    "        self.coef_cov = np.kron(np.linalg.inv(self.x.T.dot(self.x))\n",
    "                                ,self.residual_cov )\n",
    "        self.coef_stderror = np.sqrt(self.y.shape[0]/(self.y.shape[0]-self.x.shape[1])*np.diag(self.coef_cov))\n",
    "        \n",
    "        for i in range(len(self.x.columns)):\n",
    "            self.std_dict[self.x.columns[i]] = self.coef_stderror[i]\n",
    "        \n",
    "        self.tstats = self.coef.T/self.coef_stderror.reshape(self.coef.T.shape)\n",
    "        for i in range(len(self.x.columns)):\n",
    "            self.t_dict[self.x.columns[i]] = self.tstats[0][i]\n",
    "        \n",
    "        \n",
    "    def report(self):\n",
    "        print('='*20+'Beta Result Report'+'='*20+'\\n')\n",
    "        for each in self.coef_dict:\n",
    "            print('[+]Beta {}: {}'.format(each, self.coef_dict[each]))\n",
    "        print('\\n'+'='*20+'T statistics Result Report'+'='*20+'\\n')\n",
    "        for each in self.t_dict:\n",
    "            print('[+]Beta {}: {}'.format(each, self.t_dict[each]))\n",
    "\n",
    "        print('\\n')"
   ]
  },
  {
   "cell_type": "code",
   "execution_count": 522,
   "metadata": {},
   "outputs": [
    {
     "data": {
      "text/html": [
       "<div>\n",
       "<style scoped>\n",
       "    .dataframe tbody tr th:only-of-type {\n",
       "        vertical-align: middle;\n",
       "    }\n",
       "\n",
       "    .dataframe tbody tr th {\n",
       "        vertical-align: top;\n",
       "    }\n",
       "\n",
       "    .dataframe thead th {\n",
       "        text-align: right;\n",
       "    }\n",
       "</style>\n",
       "<table border=\"1\" class=\"dataframe\">\n",
       "  <thead>\n",
       "    <tr style=\"text-align: right;\">\n",
       "      <th></th>\n",
       "      <th>BABA</th>\n",
       "      <th>FB</th>\n",
       "    </tr>\n",
       "  </thead>\n",
       "  <tbody>\n",
       "    <tr>\n",
       "      <th>0</th>\n",
       "      <td>76.690002</td>\n",
       "      <td>102.220001</td>\n",
       "    </tr>\n",
       "    <tr>\n",
       "      <th>1</th>\n",
       "      <td>78.629997</td>\n",
       "      <td>102.730003</td>\n",
       "    </tr>\n",
       "    <tr>\n",
       "      <th>2</th>\n",
       "      <td>77.330002</td>\n",
       "      <td>102.970001</td>\n",
       "    </tr>\n",
       "    <tr>\n",
       "      <th>3</th>\n",
       "      <td>72.720001</td>\n",
       "      <td>97.919998</td>\n",
       "    </tr>\n",
       "    <tr>\n",
       "      <th>4</th>\n",
       "      <td>70.800003</td>\n",
       "      <td>97.330002</td>\n",
       "    </tr>\n",
       "  </tbody>\n",
       "</table>\n",
       "</div>"
      ],
      "text/plain": [
       "        BABA          FB\n",
       "0  76.690002  102.220001\n",
       "1  78.629997  102.730003\n",
       "2  77.330002  102.970001\n",
       "3  72.720001   97.919998\n",
       "4  70.800003   97.330002"
      ]
     },
     "execution_count": 522,
     "metadata": {},
     "output_type": "execute_result"
    }
   ],
   "source": [
    "df.head()"
   ]
  },
  {
   "cell_type": "code",
   "execution_count": 523,
   "metadata": {},
   "outputs": [],
   "source": [
    "x = pd.DataFrame(df)\n",
    "y = pd.DataFrame(df)"
   ]
  },
  {
   "cell_type": "code",
   "execution_count": 524,
   "metadata": {},
   "outputs": [
    {
     "data": {
      "text/html": [
       "<div>\n",
       "<style scoped>\n",
       "    .dataframe tbody tr th:only-of-type {\n",
       "        vertical-align: middle;\n",
       "    }\n",
       "\n",
       "    .dataframe tbody tr th {\n",
       "        vertical-align: top;\n",
       "    }\n",
       "\n",
       "    .dataframe thead th {\n",
       "        text-align: right;\n",
       "    }\n",
       "</style>\n",
       "<table border=\"1\" class=\"dataframe\">\n",
       "  <thead>\n",
       "    <tr style=\"text-align: right;\">\n",
       "      <th></th>\n",
       "      <th>BABA</th>\n",
       "      <th>FB</th>\n",
       "    </tr>\n",
       "  </thead>\n",
       "  <tbody>\n",
       "    <tr>\n",
       "      <th>0</th>\n",
       "      <td>76.690002</td>\n",
       "      <td>102.220001</td>\n",
       "    </tr>\n",
       "    <tr>\n",
       "      <th>1</th>\n",
       "      <td>78.629997</td>\n",
       "      <td>102.730003</td>\n",
       "    </tr>\n",
       "    <tr>\n",
       "      <th>2</th>\n",
       "      <td>77.330002</td>\n",
       "      <td>102.970001</td>\n",
       "    </tr>\n",
       "    <tr>\n",
       "      <th>3</th>\n",
       "      <td>72.720001</td>\n",
       "      <td>97.919998</td>\n",
       "    </tr>\n",
       "    <tr>\n",
       "      <th>4</th>\n",
       "      <td>70.800003</td>\n",
       "      <td>97.330002</td>\n",
       "    </tr>\n",
       "  </tbody>\n",
       "</table>\n",
       "</div>"
      ],
      "text/plain": [
       "        BABA          FB\n",
       "0  76.690002  102.220001\n",
       "1  78.629997  102.730003\n",
       "2  77.330002  102.970001\n",
       "3  72.720001   97.919998\n",
       "4  70.800003   97.330002"
      ]
     },
     "execution_count": 524,
     "metadata": {},
     "output_type": "execute_result"
    }
   ],
   "source": [
    "x.head()"
   ]
  },
  {
   "cell_type": "code",
   "execution_count": 525,
   "metadata": {},
   "outputs": [
    {
     "data": {
      "text/html": [
       "<div>\n",
       "<style scoped>\n",
       "    .dataframe tbody tr th:only-of-type {\n",
       "        vertical-align: middle;\n",
       "    }\n",
       "\n",
       "    .dataframe tbody tr th {\n",
       "        vertical-align: top;\n",
       "    }\n",
       "\n",
       "    .dataframe thead th {\n",
       "        text-align: right;\n",
       "    }\n",
       "</style>\n",
       "<table border=\"1\" class=\"dataframe\">\n",
       "  <thead>\n",
       "    <tr style=\"text-align: right;\">\n",
       "      <th></th>\n",
       "      <th>BABA</th>\n",
       "      <th>FB</th>\n",
       "    </tr>\n",
       "  </thead>\n",
       "  <tbody>\n",
       "    <tr>\n",
       "      <th>0</th>\n",
       "      <td>76.690002</td>\n",
       "      <td>102.220001</td>\n",
       "    </tr>\n",
       "    <tr>\n",
       "      <th>1</th>\n",
       "      <td>78.629997</td>\n",
       "      <td>102.730003</td>\n",
       "    </tr>\n",
       "    <tr>\n",
       "      <th>2</th>\n",
       "      <td>77.330002</td>\n",
       "      <td>102.970001</td>\n",
       "    </tr>\n",
       "    <tr>\n",
       "      <th>3</th>\n",
       "      <td>72.720001</td>\n",
       "      <td>97.919998</td>\n",
       "    </tr>\n",
       "    <tr>\n",
       "      <th>4</th>\n",
       "      <td>70.800003</td>\n",
       "      <td>97.330002</td>\n",
       "    </tr>\n",
       "  </tbody>\n",
       "</table>\n",
       "</div>"
      ],
      "text/plain": [
       "        BABA          FB\n",
       "0  76.690002  102.220001\n",
       "1  78.629997  102.730003\n",
       "2  77.330002  102.970001\n",
       "3  72.720001   97.919998\n",
       "4  70.800003   97.330002"
      ]
     },
     "execution_count": 525,
     "metadata": {},
     "output_type": "execute_result"
    }
   ],
   "source": [
    "y.head()"
   ]
  },
  {
   "cell_type": "code",
   "execution_count": 504,
   "metadata": {},
   "outputs": [
    {
     "name": "stdout",
     "output_type": "stream",
     "text": [
      "====================Beta Result Report====================\n",
      "\n",
      "[+]Beta BABA: 1.0000000000000109\n",
      "[+]Beta FB: -2.7590228611282758e-14\n",
      "[+]Beta constant: 5.987966785180904e-13\n",
      "\n",
      "====================T statistics Result Report====================\n",
      "\n",
      "[+]Beta BABA: 238002823132444.62\n",
      "[+]Beta FB: -12.886779566522529\n",
      "[+]Beta constant: 21472.18709591645\n",
      "\n",
      "\n"
     ]
    }
   ],
   "source": [
    "model = regression(x,y)\n",
    "model.addconst()\n",
    "model.fit()\n",
    "model.report()"
   ]
  },
  {
   "cell_type": "code",
   "execution_count": null,
   "metadata": {},
   "outputs": [],
   "source": []
  },
  {
   "cell_type": "code",
   "execution_count": 505,
   "metadata": {},
   "outputs": [],
   "source": [
    "model.t_dict = {'FB': model.t_dict}\n",
    "model.std_dict = {'FB':model.std_dict}\n",
    "model.coef_dict = {'FB':model.coef_dict}"
   ]
  },
  {
   "cell_type": "code",
   "execution_count": 506,
   "metadata": {},
   "outputs": [],
   "source": [
    "t1 = pd.DataFrame(model.t_dict)\n",
    "t2 = pd.DataFrame(model.std_dict)\n",
    "t3 = pd.DataFrame(model.coef_dict)\n"
   ]
  },
  {
   "cell_type": "code",
   "execution_count": 507,
   "metadata": {},
   "outputs": [
    {
     "data": {
      "text/html": [
       "<div>\n",
       "<style scoped>\n",
       "    .dataframe tbody tr th:only-of-type {\n",
       "        vertical-align: middle;\n",
       "    }\n",
       "\n",
       "    .dataframe tbody tr th {\n",
       "        vertical-align: top;\n",
       "    }\n",
       "\n",
       "    .dataframe thead tr th {\n",
       "        text-align: left;\n",
       "    }\n",
       "</style>\n",
       "<table border=\"1\" class=\"dataframe\">\n",
       "  <thead>\n",
       "    <tr>\n",
       "      <th></th>\n",
       "      <th>Coefficient</th>\n",
       "      <th>std</th>\n",
       "      <th>T statistics</th>\n",
       "    </tr>\n",
       "    <tr>\n",
       "      <th></th>\n",
       "      <th>FB</th>\n",
       "      <th>FB</th>\n",
       "      <th>FB</th>\n",
       "    </tr>\n",
       "  </thead>\n",
       "  <tbody>\n",
       "    <tr>\n",
       "      <th>BABA</th>\n",
       "      <td>2.380028e+14</td>\n",
       "      <td>4.201631e-15</td>\n",
       "      <td>1.000000e+00</td>\n",
       "    </tr>\n",
       "    <tr>\n",
       "      <th>FB</th>\n",
       "      <td>-1.288678e+01</td>\n",
       "      <td>2.140972e-15</td>\n",
       "      <td>-2.759023e-14</td>\n",
       "    </tr>\n",
       "    <tr>\n",
       "      <th>constant</th>\n",
       "      <td>2.147219e+04</td>\n",
       "      <td>2.788708e-17</td>\n",
       "      <td>5.987967e-13</td>\n",
       "    </tr>\n",
       "  </tbody>\n",
       "</table>\n",
       "</div>"
      ],
      "text/plain": [
       "           Coefficient           std  T statistics\n",
       "                    FB            FB            FB\n",
       "BABA      2.380028e+14  4.201631e-15  1.000000e+00\n",
       "FB       -1.288678e+01  2.140972e-15 -2.759023e-14\n",
       "constant  2.147219e+04  2.788708e-17  5.987967e-13"
      ]
     },
     "execution_count": 507,
     "metadata": {},
     "output_type": "execute_result"
    }
   ],
   "source": [
    "t = pd.concat({'Coefficient':t1,\n",
    "               'std':t2,\n",
    "               'T statistics':t3,}, axis = 1)\n",
    "t"
   ]
  },
  {
   "cell_type": "code",
   "execution_count": null,
   "metadata": {},
   "outputs": [],
   "source": []
  },
  {
   "cell_type": "code",
   "execution_count": null,
   "metadata": {},
   "outputs": [],
   "source": []
  },
  {
   "cell_type": "code",
   "execution_count": null,
   "metadata": {},
   "outputs": [],
   "source": []
  },
  {
   "cell_type": "code",
   "execution_count": null,
   "metadata": {},
   "outputs": [],
   "source": []
  },
  {
   "cell_type": "code",
   "execution_count": 509,
   "metadata": {},
   "outputs": [],
   "source": [
    "#testing"
   ]
  },
  {
   "cell_type": "code",
   "execution_count": 514,
   "metadata": {},
   "outputs": [],
   "source": [
    "import statsmodels.api as sm\n",
    "from sklearn import linear_model\n"
   ]
  },
  {
   "cell_type": "code",
   "execution_count": 526,
   "metadata": {},
   "outputs": [
    {
     "data": {
      "text/html": [
       "<div>\n",
       "<style scoped>\n",
       "    .dataframe tbody tr th:only-of-type {\n",
       "        vertical-align: middle;\n",
       "    }\n",
       "\n",
       "    .dataframe tbody tr th {\n",
       "        vertical-align: top;\n",
       "    }\n",
       "\n",
       "    .dataframe thead th {\n",
       "        text-align: right;\n",
       "    }\n",
       "</style>\n",
       "<table border=\"1\" class=\"dataframe\">\n",
       "  <thead>\n",
       "    <tr style=\"text-align: right;\">\n",
       "      <th></th>\n",
       "      <th>BABA</th>\n",
       "      <th>FB</th>\n",
       "    </tr>\n",
       "  </thead>\n",
       "  <tbody>\n",
       "    <tr>\n",
       "      <th>0</th>\n",
       "      <td>76.690002</td>\n",
       "      <td>102.220001</td>\n",
       "    </tr>\n",
       "    <tr>\n",
       "      <th>1</th>\n",
       "      <td>78.629997</td>\n",
       "      <td>102.730003</td>\n",
       "    </tr>\n",
       "    <tr>\n",
       "      <th>2</th>\n",
       "      <td>77.330002</td>\n",
       "      <td>102.970001</td>\n",
       "    </tr>\n",
       "    <tr>\n",
       "      <th>3</th>\n",
       "      <td>72.720001</td>\n",
       "      <td>97.919998</td>\n",
       "    </tr>\n",
       "    <tr>\n",
       "      <th>4</th>\n",
       "      <td>70.800003</td>\n",
       "      <td>97.330002</td>\n",
       "    </tr>\n",
       "    <tr>\n",
       "      <th>...</th>\n",
       "      <td>...</td>\n",
       "      <td>...</td>\n",
       "    </tr>\n",
       "    <tr>\n",
       "      <th>1190</th>\n",
       "      <td>269.730011</td>\n",
       "      <td>249.529999</td>\n",
       "    </tr>\n",
       "    <tr>\n",
       "      <th>1191</th>\n",
       "      <td>271.089996</td>\n",
       "      <td>254.820007</td>\n",
       "    </tr>\n",
       "    <tr>\n",
       "      <th>1192</th>\n",
       "      <td>276.010010</td>\n",
       "      <td>256.820007</td>\n",
       "    </tr>\n",
       "    <tr>\n",
       "      <th>1193</th>\n",
       "      <td>276.929993</td>\n",
       "      <td>261.790009</td>\n",
       "    </tr>\n",
       "    <tr>\n",
       "      <th>1194</th>\n",
       "      <td>293.980011</td>\n",
       "      <td>261.899994</td>\n",
       "    </tr>\n",
       "  </tbody>\n",
       "</table>\n",
       "<p>1195 rows × 2 columns</p>\n",
       "</div>"
      ],
      "text/plain": [
       "            BABA          FB\n",
       "0      76.690002  102.220001\n",
       "1      78.629997  102.730003\n",
       "2      77.330002  102.970001\n",
       "3      72.720001   97.919998\n",
       "4      70.800003   97.330002\n",
       "...          ...         ...\n",
       "1190  269.730011  249.529999\n",
       "1191  271.089996  254.820007\n",
       "1192  276.010010  256.820007\n",
       "1193  276.929993  261.790009\n",
       "1194  293.980011  261.899994\n",
       "\n",
       "[1195 rows x 2 columns]"
      ]
     },
     "execution_count": 526,
     "metadata": {},
     "output_type": "execute_result"
    }
   ],
   "source": [
    "x"
   ]
  },
  {
   "cell_type": "code",
   "execution_count": 527,
   "metadata": {},
   "outputs": [
    {
     "data": {
      "text/html": [
       "<div>\n",
       "<style scoped>\n",
       "    .dataframe tbody tr th:only-of-type {\n",
       "        vertical-align: middle;\n",
       "    }\n",
       "\n",
       "    .dataframe tbody tr th {\n",
       "        vertical-align: top;\n",
       "    }\n",
       "\n",
       "    .dataframe thead th {\n",
       "        text-align: right;\n",
       "    }\n",
       "</style>\n",
       "<table border=\"1\" class=\"dataframe\">\n",
       "  <thead>\n",
       "    <tr style=\"text-align: right;\">\n",
       "      <th></th>\n",
       "      <th>BABA</th>\n",
       "      <th>FB</th>\n",
       "    </tr>\n",
       "  </thead>\n",
       "  <tbody>\n",
       "    <tr>\n",
       "      <th>0</th>\n",
       "      <td>76.690002</td>\n",
       "      <td>102.220001</td>\n",
       "    </tr>\n",
       "    <tr>\n",
       "      <th>1</th>\n",
       "      <td>78.629997</td>\n",
       "      <td>102.730003</td>\n",
       "    </tr>\n",
       "    <tr>\n",
       "      <th>2</th>\n",
       "      <td>77.330002</td>\n",
       "      <td>102.970001</td>\n",
       "    </tr>\n",
       "    <tr>\n",
       "      <th>3</th>\n",
       "      <td>72.720001</td>\n",
       "      <td>97.919998</td>\n",
       "    </tr>\n",
       "    <tr>\n",
       "      <th>4</th>\n",
       "      <td>70.800003</td>\n",
       "      <td>97.330002</td>\n",
       "    </tr>\n",
       "    <tr>\n",
       "      <th>...</th>\n",
       "      <td>...</td>\n",
       "      <td>...</td>\n",
       "    </tr>\n",
       "    <tr>\n",
       "      <th>1190</th>\n",
       "      <td>269.730011</td>\n",
       "      <td>249.529999</td>\n",
       "    </tr>\n",
       "    <tr>\n",
       "      <th>1191</th>\n",
       "      <td>271.089996</td>\n",
       "      <td>254.820007</td>\n",
       "    </tr>\n",
       "    <tr>\n",
       "      <th>1192</th>\n",
       "      <td>276.010010</td>\n",
       "      <td>256.820007</td>\n",
       "    </tr>\n",
       "    <tr>\n",
       "      <th>1193</th>\n",
       "      <td>276.929993</td>\n",
       "      <td>261.790009</td>\n",
       "    </tr>\n",
       "    <tr>\n",
       "      <th>1194</th>\n",
       "      <td>293.980011</td>\n",
       "      <td>261.899994</td>\n",
       "    </tr>\n",
       "  </tbody>\n",
       "</table>\n",
       "<p>1195 rows × 2 columns</p>\n",
       "</div>"
      ],
      "text/plain": [
       "            BABA          FB\n",
       "0      76.690002  102.220001\n",
       "1      78.629997  102.730003\n",
       "2      77.330002  102.970001\n",
       "3      72.720001   97.919998\n",
       "4      70.800003   97.330002\n",
       "...          ...         ...\n",
       "1190  269.730011  249.529999\n",
       "1191  271.089996  254.820007\n",
       "1192  276.010010  256.820007\n",
       "1193  276.929993  261.790009\n",
       "1194  293.980011  261.899994\n",
       "\n",
       "[1195 rows x 2 columns]"
      ]
     },
     "execution_count": 527,
     "metadata": {},
     "output_type": "execute_result"
    }
   ],
   "source": [
    "y"
   ]
  },
  {
   "cell_type": "code",
   "execution_count": 528,
   "metadata": {},
   "outputs": [
    {
     "data": {
      "text/plain": [
       "LinearRegression()"
      ]
     },
     "execution_count": 528,
     "metadata": {},
     "output_type": "execute_result"
    }
   ],
   "source": [
    "regr = linear_model.LinearRegression()\n",
    "regr.fit(x, y)"
   ]
  },
  {
   "cell_type": "code",
   "execution_count": 529,
   "metadata": {},
   "outputs": [
    {
     "data": {
      "text/plain": [
       "array([[ 1.00000000e+00, -6.46424909e-17],\n",
       "       [-2.58569964e-16,  1.00000000e+00]])"
      ]
     },
     "execution_count": 529,
     "metadata": {},
     "output_type": "execute_result"
    }
   ],
   "source": [
    "regr.coef_"
   ]
  },
  {
   "cell_type": "code",
   "execution_count": null,
   "metadata": {},
   "outputs": [],
   "source": []
  },
  {
   "cell_type": "code",
   "execution_count": null,
   "metadata": {},
   "outputs": [],
   "source": []
  },
  {
   "cell_type": "code",
   "execution_count": null,
   "metadata": {},
   "outputs": [],
   "source": []
  }
 ],
 "metadata": {
  "kernelspec": {
   "display_name": "Python 3",
   "language": "python",
   "name": "python3"
  },
  "language_info": {
   "codemirror_mode": {
    "name": "ipython",
    "version": 3
   },
   "file_extension": ".py",
   "mimetype": "text/x-python",
   "name": "python",
   "nbconvert_exporter": "python",
   "pygments_lexer": "ipython3",
   "version": "3.8.3"
  }
 },
 "nbformat": 4,
 "nbformat_minor": 4
}
