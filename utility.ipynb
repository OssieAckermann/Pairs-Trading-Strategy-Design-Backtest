{
 "cells": [
  {
   "cell_type": "code",
   "execution_count": null,
   "metadata": {},
   "outputs": [],
   "source": []
  },
  {
   "cell_type": "code",
   "execution_count": null,
   "metadata": {},
   "outputs": [],
   "source": []
  },
  {
   "cell_type": "code",
   "execution_count": null,
   "metadata": {},
   "outputs": [],
   "source": []
  },
  {
   "cell_type": "markdown",
   "metadata": {},
   "source": [
    "## Derivation of beta β\n",
    "A linear regression takes the form of:  \n",
    "               \n",
    "$$ y = bx + ε $$ \n",
    "and its estimate can be expressed by:  \n",
    "               \n",
    "$$ {y = \\hat{b} x} $$ \n",
    "               \n",
    "As the Ordinary Least Square method states, the best value of beta would minimize the difference between the estimate value $ \\hat{y} $ and the actual y. Thus we have:  \n",
    "               \n",
    "$$ \\underset{β}argmin (y - \\hat{y})^2 $$ \n",
    "\n",
    "Let:  \n",
    "        \n",
    "$$ F =  (y - \\hat{y})^2$$\n",
    "$$F = (y - \\hat{b} x)^2 $$\n",
    "Take the derivative of F with respect to $\\hat{b}$, and make it equal to 0 for optimization  \n",
    "  \n",
    "$${dF\\over{d\\hat{b}}} = 2(y - \\hat{b} x)(-x) = 0 $$  \n",
    "\n",
    "$$ 2(y - \\hat{b} x)(-x) = 0 $$  \n",
    "\n",
    "$$(y - \\hat{b} x)(-x) = 0 $$  \n",
    "\n",
    "$$ -xy + \\hat{b} x x' = 0 $$  \n",
    "\n",
    "$$ \\hat{b} x x' = xy $$  \n",
    "\n",
    "and expression of estimated beta would be:   \n",
    "$$ \\hat{b} = (xx')^{-1} xy $$\n",
    "\n",
    "\n"
   ]
  },
  {
   "cell_type": "code",
   "execution_count": null,
   "metadata": {},
   "outputs": [],
   "source": []
  },
  {
   "cell_type": "code",
   "execution_count": 1,
   "metadata": {},
   "outputs": [],
   "source": [
    "import numpy as np\n",
    "import pandas as pd\n",
    "\n",
    "class regression():\n",
    "    \"\"\"\n",
    "    This is class contains all the \n",
    "    statistical means I need for my \n",
    "    pair trading project\n",
    "    \"\"\"\n",
    "    def __init__(self, * args):\n",
    "        self.x = args[0]\n",
    "        self.y = args[1]\n",
    "        self.coef_dict = {}\n",
    "        self.coef_array = np.array([])\n",
    "\n",
    "\n",
    "    def fit(self, addconst = False):\n",
    "        if addconst == True:\n",
    "            self.x['constant'] = np.ones(len(self.x))\n",
    "        self.coef_array = np.linalg.inv(self.x.T.dot(self.x)).dot(self.x.T.dot(self.y))\n",
    "        for i in range(len(self.x.columns)):\n",
    "            self.coef_dict[self.x.columns[i]] = self.coef_array[i][0]\n",
    "\n",
    "    def report(self):\n",
    "        for each in self.coef_dict:\n",
    "            print('Beta {}: {}'.format(each, self.coef_dict[each]))\n",
    "            \n",
    "    def aic(self, lagged):\n",
    "        #error = self.y - self.x.dot(self.coef_array)\n",
    "        error = self.x.dot(self.coef_array)\n",
    "        print(error)\n",
    "        return\n",
    "    \n",
    "    def bic(self):\n",
    "        return\n",
    "# Testing    \n",
    "#df_cu = pd.read_csv('CADUSD.csv',index_col = 'Date')\n",
    "#df_jc = pd.read_csv('JPYCNY.csv',index_col = 'Date')\n",
    "\n",
    "#r = regression(df_jc, df_cu)\n",
    "#r.fit(addconst = True)\n",
    "#r.report()\n",
    "#r.aic()"
   ]
  },
  {
   "cell_type": "code",
   "execution_count": null,
   "metadata": {},
   "outputs": [],
   "source": []
  }
 ],
 "metadata": {
  "kernelspec": {
   "display_name": "Python 3",
   "language": "python",
   "name": "python3"
  },
  "language_info": {
   "codemirror_mode": {
    "name": "ipython",
    "version": 3
   },
   "file_extension": ".py",
   "mimetype": "text/x-python",
   "name": "python",
   "nbconvert_exporter": "python",
   "pygments_lexer": "ipython3",
   "version": "3.8.3"
  }
 },
 "nbformat": 4,
 "nbformat_minor": 4
}
